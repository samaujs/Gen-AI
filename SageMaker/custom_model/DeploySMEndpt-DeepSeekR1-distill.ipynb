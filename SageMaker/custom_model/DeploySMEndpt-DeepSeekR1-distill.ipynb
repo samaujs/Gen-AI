{
 "cells": [
  {
   "cell_type": "markdown",
   "id": "a8e235f1-fe2a-4bf1-acc9-f4095504ffaf",
   "metadata": {},
   "source": [
    "## A. Deploy DeepSeek-R1 Distill Model on Amazon SageMaker via HuggingFaceModel API\n",
    "> 1. Instance type : **ml.g5.12xlarge**"
   ]
  },
  {
   "cell_type": "code",
   "execution_count": null,
   "id": "57f2c0b9-f1a5-4e79-a55d-9879aa5f57bc",
   "metadata": {},
   "outputs": [],
   "source": [
    "# %pip install \"sagemaker>=2.163.0\""
   ]
  },
  {
   "cell_type": "code",
   "execution_count": null,
   "id": "5260eab5-fb21-42b9-a6e8-2a5a9f1b033b",
   "metadata": {},
   "outputs": [],
   "source": [
    "import sagemaker\n",
    "from sagemaker.huggingface import HuggingFaceModel, get_huggingface_llm_image_uri\n",
    "import time\n",
    "\n",
    "sagemaker_session = sagemaker.Session()\n",
    "region = sagemaker_session.boto_region_name\n",
    "role = sagemaker.get_execution_role()\n",
    "\n",
    "print(region)\n",
    "print(role)"
   ]
  },
  {
   "cell_type": "code",
   "execution_count": null,
   "id": "43dc1ac5-6530-4ff1-8da3-58a4149fba82",
   "metadata": {},
   "outputs": [],
   "source": [
    "# Retrieve the LLM Image URI\n",
    "image_uri = get_huggingface_llm_image_uri(\n",
    "  backend=\"huggingface\",\n",
    "  region=region\n",
    ")\n",
    "\n",
    "image_uri"
   ]
  },
  {
   "cell_type": "code",
   "execution_count": null,
   "id": "9e3079c8-a71f-457f-bf3b-8363bd3b8607",
   "metadata": {},
   "outputs": [],
   "source": [
    "# Create the Hugging Face Model\n",
    "model_name = \"deepseek-14b-\" + time.strftime(\"%Y-%m-%d-%H-%M-%S\", time.gmtime())\n",
    "\n",
    "hub = {\n",
    "    'HF_MODEL_ID':'deepseek-ai/DeepSeek-R1-Distill-Llama-8B',\n",
    "    'HF_TASK':'question-answering',\n",
    "    'SM_NUM_GPUS':'4'\n",
    "}\n",
    "\n",
    "model = HuggingFaceModel(\n",
    "    name=model_name,\n",
    "    env=hub,\n",
    "    role=role,\n",
    "    image_uri=image_uri\n",
    ")\n",
    "\n",
    "model_name"
   ]
  },
  {
   "cell_type": "code",
   "execution_count": null,
   "id": "c08a8eae-c992-4340-ba29-bf9b4b900cd9",
   "metadata": {},
   "outputs": [],
   "source": [
    "%%time\n",
    "# Creating a SageMaker Endpoint\n",
    "predictor = model.deploy(\n",
    "    initial_instance_count=1,\n",
    "    instance_type=\"ml.g5.12xlarge\",\n",
    "    endpoint_name=model_name\n",
    ")\n",
    "\n",
    "predictor"
   ]
  },
  {
   "cell_type": "code",
   "execution_count": null,
   "id": "7bf568b9-4a87-4d14-b4f9-8a65b1090be3",
   "metadata": {},
   "outputs": [],
   "source": [
    "%%time\n",
    "# Sample Inference Usage\n",
    "# Advanced generation parameters\n",
    "generation_params = {\n",
    "    \"do_sample\": True,\n",
    "    \"top_p\": 0.7,\n",
    "    \"temperature\": 0.6,\n",
    "    \"max_new_tokens\": 1024\n",
    "}\n",
    "\n",
    "# Sample request\n",
    "predictor.predict({\n",
    "    \"inputs\": \"What is DeepSeek R1?\",\n",
    "    \"parameters\": generation_params\n",
    "})"
   ]
  },
  {
   "cell_type": "markdown",
   "id": "624dcd82-6824-4165-a526-32ce6dd1a93c",
   "metadata": {},
   "source": [
    "## B. Invoke endpoint for prediction after deployment at SageMaker Endpoint"
   ]
  },
  {
   "cell_type": "code",
   "execution_count": null,
   "id": "5ada0286-453b-4ed0-b4bb-cdad8d47f599",
   "metadata": {},
   "outputs": [],
   "source": [
    "import boto3\n",
    "import json\n",
    "\n",
    "endpoint_name = <sagemaker-endpoint-name>\n",
    "sm_runtime = boto3.client(\"runtime.sagemaker\")\n",
    "sm_runtime"
   ]
  },
  {
   "cell_type": "code",
   "execution_count": null,
   "id": "78c9c476-e055-449d-87b2-c3c6075fc27e",
   "metadata": {},
   "outputs": [],
   "source": [
    "predict_body = json.dumps({\"inputs\": \"How is DeepSeek R1 performance compared to Claude 3.5 Sonnet?\",\n",
    "                           \"parameters\": {\"do_sample\": True, \"top_p\": 0.9, \"temperature\": 0.6, \"max_new_tokens\": 1024}})\n",
    "predict_body"
   ]
  },
  {
   "cell_type": "code",
   "execution_count": null,
   "id": "17fb22bb-eeee-45cd-8c7a-7cf33444c933",
   "metadata": {},
   "outputs": [],
   "source": [
    "%%time\n",
    "\n",
    "# After you deploy a model using Amazon SageMaker hosting services\n",
    "# Performed inferences from the model hosted at the specified endpoint.\n",
    "response = sm_runtime.invoke_endpoint(\n",
    "    EndpointName=endpoint_name,\n",
    "    ContentType=\"application/json\",\n",
    "    Body=predict_body\n",
    ")\n",
    "response_str = response[\"Body\"].read().decode()\n",
    "print(response_str)"
   ]
  },
  {
   "cell_type": "code",
   "execution_count": null,
   "id": "8cc0f577-af01-4e2b-971a-075dd9d2e8c3",
   "metadata": {},
   "outputs": [],
   "source": [
    "# Cleaning up : release resources\n",
    "predictor.delete_model()\n",
    "predictor.delete_endpoint()"
   ]
  }
 ],
 "metadata": {
  "kernelspec": {
   "display_name": "Python 3 (ipykernel)",
   "language": "python",
   "name": "python3"
  },
  "language_info": {
   "codemirror_mode": {
    "name": "ipython",
    "version": 3
   },
   "file_extension": ".py",
   "mimetype": "text/x-python",
   "name": "python",
   "nbconvert_exporter": "python",
   "pygments_lexer": "ipython3",
   "version": "3.11.11"
  }
 },
 "nbformat": 4,
 "nbformat_minor": 5
}
